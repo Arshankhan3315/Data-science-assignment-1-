{
 "cells": [
  {
   "cell_type": "markdown",
   "id": "4381224b-b65e-4a7e-87d6-b88925d19f45",
   "metadata": {},
   "source": [
    "Data science Assignment -1"
   ]
  },
  {
   "cell_type": "markdown",
   "id": "f8102eb4-a433-4dd5-b43f-230411bd237a",
   "metadata": {},
   "source": [
    "Question-1- Create one varible containing following type of data:\n",
    "(1) string\n",
    "(2)list\n",
    "(3)float\n",
    "(4) tuple"
   ]
  },
  {
   "cell_type": "markdown",
   "id": "85f91fb6-044c-4dfc-97bb-3580fcaa892b",
   "metadata": {},
   "source": [
    "Answer-1- this is the example"
   ]
  },
  {
   "cell_type": "code",
   "execution_count": 1,
   "id": "7adc720a-a8f3-4289-af04-5ba3fea8c50a",
   "metadata": {},
   "outputs": [],
   "source": [
    "#string"
   ]
  },
  {
   "cell_type": "code",
   "execution_count": 5,
   "id": "9aef5d91-86d5-4f9c-8335-bfb4cc45b4e0",
   "metadata": {},
   "outputs": [],
   "source": [
    "s=\"Hello sir\""
   ]
  },
  {
   "cell_type": "code",
   "execution_count": 6,
   "id": "89843b98-121f-47b4-9440-80db9da0a6cd",
   "metadata": {},
   "outputs": [
    {
     "data": {
      "text/plain": [
       "'Hello sir'"
      ]
     },
     "execution_count": 6,
     "metadata": {},
     "output_type": "execute_result"
    }
   ],
   "source": [
    "s"
   ]
  },
  {
   "cell_type": "code",
   "execution_count": 7,
   "id": "9180f93d-b0ab-4283-85d3-ea869f5b1a53",
   "metadata": {},
   "outputs": [
    {
     "data": {
      "text/plain": [
       "str"
      ]
     },
     "execution_count": 7,
     "metadata": {},
     "output_type": "execute_result"
    }
   ],
   "source": [
    "type(s)"
   ]
  },
  {
   "cell_type": "code",
   "execution_count": 3,
   "id": "c99f8fab-0efe-4913-af13-0d8176319241",
   "metadata": {},
   "outputs": [],
   "source": [
    "#list"
   ]
  },
  {
   "cell_type": "code",
   "execution_count": 10,
   "id": "7f727342-eb6d-4d06-b0c1-92562d17c79c",
   "metadata": {},
   "outputs": [],
   "source": [
    "l=[10,13,45,7554]"
   ]
  },
  {
   "cell_type": "code",
   "execution_count": 13,
   "id": "d5a3aa3f-2731-4337-9284-385c07d53c55",
   "metadata": {},
   "outputs": [
    {
     "data": {
      "text/plain": [
       "[10, 13, 45, 7554]"
      ]
     },
     "execution_count": 13,
     "metadata": {},
     "output_type": "execute_result"
    }
   ],
   "source": [
    "l"
   ]
  },
  {
   "cell_type": "code",
   "execution_count": 14,
   "id": "9c174965-c6d5-4c59-b26d-86420b5ed1f9",
   "metadata": {},
   "outputs": [
    {
     "data": {
      "text/plain": [
       "list"
      ]
     },
     "execution_count": 14,
     "metadata": {},
     "output_type": "execute_result"
    }
   ],
   "source": [
    "type(l)"
   ]
  },
  {
   "cell_type": "code",
   "execution_count": 15,
   "id": "55d32b7d-d377-430f-85e4-4209e42bf4d4",
   "metadata": {},
   "outputs": [],
   "source": [
    "#float"
   ]
  },
  {
   "cell_type": "code",
   "execution_count": 16,
   "id": "1a2aebc3-cb75-4d78-8320-52663845ba87",
   "metadata": {},
   "outputs": [],
   "source": [
    "f=3254.2543"
   ]
  },
  {
   "cell_type": "code",
   "execution_count": 17,
   "id": "54f71b48-d843-4b35-bdaf-fff458d6a28e",
   "metadata": {},
   "outputs": [
    {
     "data": {
      "text/plain": [
       "3254.2543"
      ]
     },
     "execution_count": 17,
     "metadata": {},
     "output_type": "execute_result"
    }
   ],
   "source": [
    "f"
   ]
  },
  {
   "cell_type": "code",
   "execution_count": 18,
   "id": "a70a99e8-e6ce-4cb4-8af7-8da8f9500e14",
   "metadata": {},
   "outputs": [
    {
     "data": {
      "text/plain": [
       "float"
      ]
     },
     "execution_count": 18,
     "metadata": {},
     "output_type": "execute_result"
    }
   ],
   "source": [
    "type(f)"
   ]
  },
  {
   "cell_type": "code",
   "execution_count": 19,
   "id": "330a8211-04ef-477f-bfd2-3b9ebea31186",
   "metadata": {},
   "outputs": [],
   "source": [
    "#tuple"
   ]
  },
  {
   "cell_type": "code",
   "execution_count": 20,
   "id": "980f987c-0377-4731-96f8-7e35821bdd75",
   "metadata": {},
   "outputs": [],
   "source": [
    "t= (1,2,3,4,5,6,7)"
   ]
  },
  {
   "cell_type": "code",
   "execution_count": 21,
   "id": "7452f3e8-cc94-44b9-bb6d-f797cf16422d",
   "metadata": {},
   "outputs": [
    {
     "data": {
      "text/plain": [
       "(1, 2, 3, 4, 5, 6, 7)"
      ]
     },
     "execution_count": 21,
     "metadata": {},
     "output_type": "execute_result"
    }
   ],
   "source": [
    "t"
   ]
  },
  {
   "cell_type": "code",
   "execution_count": 22,
   "id": "f0f1507f-25a9-4022-8e92-40910d9e427d",
   "metadata": {},
   "outputs": [
    {
     "data": {
      "text/plain": [
       "tuple"
      ]
     },
     "execution_count": 22,
     "metadata": {},
     "output_type": "execute_result"
    }
   ],
   "source": [
    "type(t)"
   ]
  },
  {
   "cell_type": "markdown",
   "id": "c77eea4b-2a01-4012-961b-c469a1253484",
   "metadata": {},
   "source": [
    "Question-2-Given are some following varible containing data:\n",
    "(1) var1=''\n",
    "(2) var2='[DS,ML,Python]'\n",
    "(3) var3=['DS','ML','python']\n",
    "(4) var4=1.\n",
    "What will be the data type of the above given varible"
   ]
  },
  {
   "cell_type": "markdown",
   "id": "02a65d5a-e52c-4884-8805-40b8744bf00f",
   "metadata": {},
   "source": [
    "Answer-2- These are data type given below"
   ]
  },
  {
   "cell_type": "markdown",
   "id": "e65b5462-7a74-467a-adc8-a6d822aabb68",
   "metadata": {},
   "source": [
    "var1 is a string because of empty qutesion\n",
    "var2 is a string because of qutesion\n",
    "var3 is a list because of close breacket\n",
    "var4 is a float because of point(.)"
   ]
  },
  {
   "cell_type": "markdown",
   "id": "0b53cb59-4fbc-45e0-865f-f34913fbe135",
   "metadata": {},
   "source": [
    "Question-3-Explain the use of the following operation using example:\n",
    "(1) /\n",
    "(2) %\n",
    "(3) //\n",
    "(4) **"
   ]
  },
  {
   "cell_type": "markdown",
   "id": "21855a1e-f25f-45b9-87e2-6670777bcdc8",
   "metadata": {},
   "source": [
    "Answer-3-These are some common mathematical and arithmetic operations in Python"
   ]
  },
  {
   "cell_type": "code",
   "execution_count": 23,
   "id": "79ca9544-bdea-45de-8a60-5300a72dcd8a",
   "metadata": {},
   "outputs": [],
   "source": [
    "#division"
   ]
  },
  {
   "cell_type": "code",
   "execution_count": 26,
   "id": "ecf45785-21ad-4edd-9965-8fdcf9295222",
   "metadata": {},
   "outputs": [],
   "source": [
    "a=10/5"
   ]
  },
  {
   "cell_type": "code",
   "execution_count": 27,
   "id": "7975f03d-cad9-4120-9e7b-97c6f069c5e1",
   "metadata": {},
   "outputs": [
    {
     "data": {
      "text/plain": [
       "2.0"
      ]
     },
     "execution_count": 27,
     "metadata": {},
     "output_type": "execute_result"
    }
   ],
   "source": [
    "a"
   ]
  },
  {
   "cell_type": "code",
   "execution_count": 28,
   "id": "2f7391a3-419c-4ed7-921e-87944ad257ce",
   "metadata": {},
   "outputs": [],
   "source": [
    "#modulus"
   ]
  },
  {
   "cell_type": "code",
   "execution_count": 29,
   "id": "60af7849-f041-473f-929d-0caaa5734286",
   "metadata": {},
   "outputs": [],
   "source": [
    "b= 10%5"
   ]
  },
  {
   "cell_type": "code",
   "execution_count": 30,
   "id": "61d4616c-f38f-4362-bebb-f53da4a5d32b",
   "metadata": {},
   "outputs": [
    {
     "data": {
      "text/plain": [
       "0"
      ]
     },
     "execution_count": 30,
     "metadata": {},
     "output_type": "execute_result"
    }
   ],
   "source": [
    "b"
   ]
  },
  {
   "cell_type": "code",
   "execution_count": 31,
   "id": "c089fbac-97fb-4eac-a289-a27845f0e1f2",
   "metadata": {},
   "outputs": [],
   "source": [
    "#floor division"
   ]
  },
  {
   "cell_type": "code",
   "execution_count": 32,
   "id": "25a69ec6-6708-4d19-9752-e9f3ad743dc0",
   "metadata": {},
   "outputs": [],
   "source": [
    "c=10//5"
   ]
  },
  {
   "cell_type": "code",
   "execution_count": 33,
   "id": "326c8120-031f-456e-89cd-b006e3dc5fca",
   "metadata": {},
   "outputs": [
    {
     "data": {
      "text/plain": [
       "2"
      ]
     },
     "execution_count": 33,
     "metadata": {},
     "output_type": "execute_result"
    }
   ],
   "source": [
    "c"
   ]
  },
  {
   "cell_type": "code",
   "execution_count": 34,
   "id": "e0f6a5c6-0f48-4d03-ab0b-380c25028dac",
   "metadata": {},
   "outputs": [],
   "source": [
    "#exponent"
   ]
  },
  {
   "cell_type": "code",
   "execution_count": 35,
   "id": "a04c7f49-7eb7-4997-9774-21b9bf77c175",
   "metadata": {},
   "outputs": [],
   "source": [
    "d =2**3"
   ]
  },
  {
   "cell_type": "code",
   "execution_count": 36,
   "id": "72b2252a-dccb-418e-a83a-822fd9fbc08e",
   "metadata": {},
   "outputs": [
    {
     "data": {
      "text/plain": [
       "8"
      ]
     },
     "execution_count": 36,
     "metadata": {},
     "output_type": "execute_result"
    }
   ],
   "source": [
    "d"
   ]
  },
  {
   "cell_type": "markdown",
   "id": "f3f05b5b-fc52-4723-a72f-f093700c6a12",
   "metadata": {},
   "source": [
    "Question-4- Create a list of length 10 of your choice containing multiple types of data. using for loop print the element and its data type."
   ]
  },
  {
   "cell_type": "markdown",
   "id": "065d3ac9-91a5-4120-86e2-dc220de4bc44",
   "metadata": {},
   "source": [
    "Answer-4- This is the example"
   ]
  },
  {
   "cell_type": "code",
   "execution_count": 38,
   "id": "b7f7f6e5-9583-43ab-9141-3c9b87017e51",
   "metadata": {},
   "outputs": [
    {
     "name": "stdout",
     "output_type": "stream",
     "text": [
      "Element: 10 | Data Type: <class 'int'>\n",
      "Element: 2.5 | Data Type: <class 'float'>\n",
      "Element: Hello | Data Type: <class 'str'>\n",
      "Element: True | Data Type: <class 'bool'>\n",
      "Element: [1, 2, 3] | Data Type: <class 'list'>\n",
      "Element: (4, 5, 6) | Data Type: <class 'tuple'>\n",
      "Element: {'a': 1, 'b': 2} | Data Type: <class 'dict'>\n",
      "Element: None | Data Type: <class 'NoneType'>\n",
      "Element: 7.8 | Data Type: <class 'float'>\n",
      "Element: False | Data Type: <class 'bool'>\n"
     ]
    }
   ],
   "source": [
    "l= [10, 2.5, \"Hello\", True, [1, 2, 3], (4, 5, 6), {\"a\": 1, \"b\": 2}, None, 7.8, False]\n",
    "\n",
    "for i in l:\n",
    "    print(f\"Element: {i} | Data Type: {type(i)}\")\n"
   ]
  },
  {
   "cell_type": "markdown",
   "id": "47b3316a-cf3c-4f9f-b119-65af0e826824",
   "metadata": {},
   "source": [
    "Question-5-Using a while loop,varify if the number A is purely divisible by number B and if so then how many times it can be divisible"
   ]
  },
  {
   "cell_type": "markdown",
   "id": "aca901ea-c30c-401e-a7fb-cf06680b8649",
   "metadata": {},
   "source": [
    "Answer-5- This is the example"
   ]
  },
  {
   "cell_type": "code",
   "execution_count": 43,
   "id": "cce3db30-b3cd-4206-af07-c509aa9b23a3",
   "metadata": {},
   "outputs": [
    {
     "name": "stdin",
     "output_type": "stream",
     "text": [
      "Enter number A:  10\n",
      "Enter number B:  5\n"
     ]
    },
    {
     "name": "stdout",
     "output_type": "stream",
     "text": [
      "2 times\n"
     ]
    }
   ],
   "source": [
    "A = int(input(\"Enter number A: \"))\n",
    "B = int(input(\"Enter number B: \"))\n",
    "        \n",
    "c = 0\n",
    "\n",
    "while A >= B:\n",
    "    A = A - B  \n",
    "    c += 1\n",
    "\n",
    "if c > 0:\n",
    "    print(f\"{c} times\")\n",
    "else:\n",
    "    print(\"A is not divisible by B\")\n",
    "\n",
    "if A != 0:\n",
    "    print(f\"There is a remainder of {A} left after division.\")\n"
   ]
  },
  {
   "cell_type": "markdown",
   "id": "c5b282b3-d73e-4b05-a0b7-c5cb7dc7a17b",
   "metadata": {},
   "source": [
    "Question-6- Create a list containing 25 int type data.using for loop and if-else condation print if the element is divisible by 3 or not"
   ]
  },
  {
   "cell_type": "markdown",
   "id": "ca8baa1e-f567-4aa6-9fb3-ead5c7c2c73f",
   "metadata": {},
   "source": [
    "Answer-6- This is the example"
   ]
  },
  {
   "cell_type": "code",
   "execution_count": 46,
   "id": "9e08404a-9068-4c7e-af3e-cb674b22bf2e",
   "metadata": {},
   "outputs": [
    {
     "name": "stdout",
     "output_type": "stream",
     "text": [
      "{i} is not divisible by 3\n",
      "{i} is divisible by 3\n",
      "{i} is divisible by 3\n",
      "{i} is not divisible by 3\n",
      "{i} is divisible by 3\n",
      "{i} is not divisible by 3\n",
      "{i} is divisible by 3\n",
      "{i} is divisible by 3\n",
      "{i} is not divisible by 3\n",
      "{i} is divisible by 3\n",
      "{i} is not divisible by 3\n",
      "{i} is divisible by 3\n",
      "{i} is divisible by 3\n",
      "{i} is divisible by 3\n",
      "{i} is not divisible by 3\n",
      "{i} is not divisible by 3\n",
      "{i} is divisible by 3\n",
      "{i} is not divisible by 3\n",
      "{i} is not divisible by 3\n",
      "{i} is divisible by 3\n",
      "{i} is not divisible by 3\n",
      "{i} is not divisible by 3\n",
      "{i} is divisible by 3\n",
      "{i} is not divisible by 3\n",
      "{i} is divisible by 3\n"
     ]
    }
   ],
   "source": [
    "l1= [2, 9, 15, 8, 27, 10, 21, 33, 5, 18, 7, 12, 30, 42, 1, 22, 36, 14, 17, 6, 20, 11, 24, 13, 3]\n",
    "\n",
    "for i in l1:\n",
    "    if i % 3 == 0:\n",
    "        print(\"{i} is divisible by 3\")\n",
    "    else:\n",
    "        print(\"{i} is not divisible by 3\")"
   ]
  },
  {
   "cell_type": "markdown",
   "id": "e30b0353-d3e8-44fd-96a5-aa03c2adc7d0",
   "metadata": {},
   "source": [
    "Question-7- What do you understand about mutable and immutable data types? Give example for both showing this property"
   ]
  },
  {
   "cell_type": "markdown",
   "id": "9a4c9874-2c9d-475d-b22a-94e4358b6768",
   "metadata": {},
   "source": [
    "Answer-7-"
   ]
  },
  {
   "cell_type": "markdown",
   "id": "dcba5406-e8b1-45ac-bb2f-61b6f46b9c3a",
   "metadata": {},
   "source": [
    "#mutable data type\n",
    "Mutable data types are those that can be modified after they are created. This means you can change their values, add or remove elements, and the object itself remains the same in memory."
   ]
  },
  {
   "cell_type": "code",
   "execution_count": 49,
   "id": "8fd3fca1-8725-4287-a6a5-ca4f63cfd7f2",
   "metadata": {},
   "outputs": [
    {
     "name": "stdout",
     "output_type": "stream",
     "text": [
      "[10, 2, 3]\n"
     ]
    }
   ],
   "source": [
    "# Lists are mutable\n",
    "l3 = [1, 2, 3]\n",
    "l3[0] = 10  \n",
    "print(l3)   "
   ]
  },
  {
   "cell_type": "markdown",
   "id": "caaa7f71-0b41-40f3-8964-2a3dd3730803",
   "metadata": {},
   "source": [
    "immutable data type-Immutable data types are those that cannot be modified once they are created. Any attempt to change their value will result in creating a new object in memory."
   ]
  },
  {
   "cell_type": "code",
   "execution_count": 50,
   "id": "391d10de-56a8-44e9-8f6c-78dc8907442d",
   "metadata": {},
   "outputs": [
    {
     "ename": "TypeError",
     "evalue": "replace expected at least 2 arguments, got 1",
     "output_type": "error",
     "traceback": [
      "\u001b[0;31m---------------------------------------------------------------------------\u001b[0m",
      "\u001b[0;31mTypeError\u001b[0m                                 Traceback (most recent call last)",
      "Cell \u001b[0;32mIn[50], line 3\u001b[0m\n\u001b[1;32m      1\u001b[0m \u001b[38;5;66;03m# Strings are immutable\u001b[39;00m\n\u001b[1;32m      2\u001b[0m s2 \u001b[38;5;241m=\u001b[39m \u001b[38;5;124m\"\u001b[39m\u001b[38;5;124mHello sir\u001b[39m\u001b[38;5;124m\"\u001b[39m\n\u001b[0;32m----> 3\u001b[0m s3 \u001b[38;5;241m=\u001b[39m \u001b[43ms2\u001b[49m\u001b[38;5;241;43m.\u001b[39;49m\u001b[43mreplace\u001b[49m\u001b[43m(\u001b[49m\u001b[38;5;124;43m'\u001b[39;49m\u001b[38;5;124;43mH\u001b[39;49m\u001b[38;5;124;43m'\u001b[39;49m\u001b[43m)\u001b[49m\n\u001b[1;32m      4\u001b[0m \u001b[38;5;28mprint\u001b[39m(s2)  \n\u001b[1;32m      5\u001b[0m \u001b[38;5;28mprint\u001b[39m(s3) \n",
      "\u001b[0;31mTypeError\u001b[0m: replace expected at least 2 arguments, got 1"
     ]
    }
   ],
   "source": [
    "# Strings are immutable\n",
    "s2 = \"Hello sir\"\n",
    "s3 = s2.replace('H')\n",
    "print(s2)  \n",
    "print(s3) "
   ]
  },
  {
   "cell_type": "markdown",
   "id": "812407be-3ef9-442a-a887-7f9b43329956",
   "metadata": {},
   "source": [
    "This are the property of immuta"
   ]
  }
 ],
 "metadata": {
  "kernelspec": {
   "display_name": "Python 3 (ipykernel)",
   "language": "python",
   "name": "python3"
  },
  "language_info": {
   "codemirror_mode": {
    "name": "ipython",
    "version": 3
   },
   "file_extension": ".py",
   "mimetype": "text/x-python",
   "name": "python",
   "nbconvert_exporter": "python",
   "pygments_lexer": "ipython3",
   "version": "3.10.8"
  }
 },
 "nbformat": 4,
 "nbformat_minor": 5
}
